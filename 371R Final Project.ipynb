{
 "cells": [
  {
   "cell_type": "code",
   "execution_count": 39,
   "metadata": {},
   "outputs": [],
   "source": [
    "from aubio import onset, tempo, source\n",
    "from numpy import hstack, zeros\n",
    "import matplotlib.pyplot as plt\n",
    "%matplotlib inline  "
   ]
  },
  {
   "cell_type": "code",
   "execution_count": 50,
   "metadata": {},
   "outputs": [],
   "source": [
    "#libvlc, ffmpeg, gstreamer\n",
    "win_s = 512 #fft size\n",
    "hop_s = win_s//2 #hop size\n",
    "filename = 'Feel It Still.mp3'\n",
    "samplerate = 44100\n",
    "s = source(filename, samplerate, hop_s)\n",
    "o = onset('default', win_s, hop_s, samplerate)\n",
    "t = tempo(\"default\", win_s, hop_s, samplerate)\n",
    "delay = 4. * hop_s\n",
    "total_frames = 0\n",
    "onsets = []\n",
    "onsets_desc = []\n",
    "onsets_tdesc = []\n",
    "beats = []\n",
    "\n",
    "while True:\n",
    "    samples, read = s()\n",
    "    if o(samples):\n",
    "        onsets.append(o.get_last())\n",
    "        onsets_desc.append(o.get_descriptor())\n",
    "        onsets_tdesc.append(o.get_thresholded_descriptor())\n",
    "    if t(samples):\n",
    "        this_beat = int(total_frames - delay + t(samples)[0] * hop_s)\n",
    "        beats.append(this_beat)\n",
    "    total_frames += read\n",
    "    if read < hop_s: \n",
    "        break"
   ]
  },
  {
   "cell_type": "code",
   "execution_count": 35,
   "metadata": {},
   "outputs": [],
   "source": [
    "diff_onsets = [onsets[i + 1] - onsets[i] for i in range(len(onsets) - 1)]"
   ]
  },
  {
   "cell_type": "code",
   "execution_count": 47,
   "metadata": {},
   "outputs": [],
   "source": [
    "# import time\n",
    "# for diff in diff_onsets:\n",
    "#     time.sleep(diff)\n",
    "#     print desc"
   ]
  },
  {
   "cell_type": "code",
   "execution_count": 52,
   "metadata": {},
   "outputs": [
    {
     "data": {
      "text/plain": [
       "364"
      ]
     },
     "execution_count": 52,
     "metadata": {},
     "output_type": "execute_result"
    }
   ],
   "source": [
    "len(beats)"
   ]
  },
  {
   "cell_type": "code",
   "execution_count": 56,
   "metadata": {},
   "outputs": [
    {
     "data": {
      "text/plain": [
       "0.0032247435446994131"
      ]
     },
     "execution_count": 56,
     "metadata": {},
     "output_type": "execute_result"
    }
   ],
   "source": [
    "mean(60./diff(beats))"
   ]
  },
  {
   "cell_type": "code",
   "execution_count": 66,
   "metadata": {},
   "outputs": [],
   "source": [
    "from PIL import Image\n",
    "import requests\n",
    "import tempfile\n",
    "import cv2\n",
    "\n",
    "def load_gif_url(url):\n",
    "    with tempfile.NamedTemporaryFile(suffix=\".gif\") as f:\n",
    "        f.write(requests.get(url).content)\n",
    "        f.flush()\n",
    "        img = Image.open(f.name)\n",
    "\n",
    "    with tempfile.NamedTemporaryFile(suffix=\".png\") as f:\n",
    "        img.save(f.name)\n",
    "        f.flush()\n",
    "        src = cv2.imread(f.name)\n",
    "\n",
    "    assert src is not None and len(src), \"Empty\"\n",
    "\n",
    "    return src"
   ]
  },
  {
   "cell_type": "code",
   "execution_count": 68,
   "metadata": {},
   "outputs": [],
   "source": [
    "src = load_gif_url('https://media.giphy.com/media/v6aOjy0Qo1fIA/giphy.gif')"
   ]
  },
  {
   "cell_type": "code",
   "execution_count": null,
   "metadata": {},
   "outputs": [],
   "source": [
    "import cv2\n",
    "import numpy as np\n",
    "\n",
    "# original image\n",
    "# -1 loads as-is so if it will be 3 or 4 channel as the original\n",
    "image = cv2.imread('image.png', -1)\n",
    "# mask defaulting to black for 3-channel and transparent for 4-channel\n",
    "# (of course replace corners with yours)\n",
    "mask = np.zeros(image.shape, dtype=np.uint8)\n",
    "roi_corners = np.array([[(10,10), (300,300), (10,300)]], dtype=np.int32)\n",
    "# fill the ROI so it doesn't get wiped out when the mask is applied\n",
    "channel_count = image.shape[2]  # i.e. 3 or 4 depending on your image\n",
    "ignore_mask_color = (255,)*channel_count\n",
    "cv2.fillPoly(mask, roi_corners, ignore_mask_color)\n",
    "# from Masterfool: use cv2.fillConvexPoly if you know it's convex\n",
    "\n",
    "# apply the mask\n",
    "masked_image = cv2.bitwise_and(image, mask)\n",
    "\n",
    "# save the result\n",
    "cv2.imwrite('image_masked.png', masked_image)"
   ]
  }
 ],
 "metadata": {
  "kernelspec": {
   "display_name": "Python 2",
   "language": "python",
   "name": "python2"
  },
  "language_info": {
   "codemirror_mode": {
    "name": "ipython",
    "version": 2
   },
   "file_extension": ".py",
   "mimetype": "text/x-python",
   "name": "python",
   "nbconvert_exporter": "python",
   "pygments_lexer": "ipython2",
   "version": "2.7.14"
  }
 },
 "nbformat": 4,
 "nbformat_minor": 2
}
